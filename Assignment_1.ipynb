{
  "nbformat": 4,
  "nbformat_minor": 0,
  "metadata": {
    "colab": {
      "name": "Assignment 1.ipynb",
      "provenance": [],
      "collapsed_sections": []
    },
    "kernelspec": {
      "name": "python3",
      "display_name": "Python 3"
    }
  },
  "cells": [
    {
      "cell_type": "markdown",
      "metadata": {
        "id": "IzSIwwu-jW3H"
      },
      "source": [
        "# **# Assignment ->**\r\n",
        "**Q1. Experiment with 5 List's in-built functions and post it to Github.**"
      ]
    },
    {
      "cell_type": "code",
      "metadata": {
        "colab": {
          "base_uri": "https://localhost:8080/"
        },
        "id": "PUGKnEkYhGQ6",
        "outputId": "050b2f90-0e83-4d69-c366-cdaf678ba2e4"
      },
      "source": [
        "lst = [2,6,8,\"hello\",3,9,['b','d'],7]\r\n",
        "lst"
      ],
      "execution_count": null,
      "outputs": [
        {
          "output_type": "execute_result",
          "data": {
            "text/plain": [
              "[2, 6, 8, 'hello', 3, 9, ['b', 'd'], 7]"
            ]
          },
          "metadata": {
            "tags": []
          },
          "execution_count": 2
        }
      ]
    },
    {
      "cell_type": "markdown",
      "metadata": {
        "id": "Yu86-tJMkJfb"
      },
      "source": [
        "* **First function :** **Pop**"
      ]
    },
    {
      "cell_type": "code",
      "metadata": {
        "colab": {
          "base_uri": "https://localhost:8080/"
        },
        "id": "s8I7_GPYhIYr",
        "outputId": "bc4fcd79-ce28-491b-bac2-090d885da488"
      },
      "source": [
        "lst.pop(0)\r\n",
        "lst"
      ],
      "execution_count": null,
      "outputs": [
        {
          "output_type": "execute_result",
          "data": {
            "text/plain": [
              "[6, 8, 'hello', 3, 9, ['b', 'd'], 7]"
            ]
          },
          "metadata": {
            "tags": []
          },
          "execution_count": 3
        }
      ]
    },
    {
      "cell_type": "markdown",
      "metadata": {
        "id": "q9ccTEuIkZ7i"
      },
      "source": [
        "* **Second** **function** **:** **Index**"
      ]
    },
    {
      "cell_type": "code",
      "metadata": {
        "colab": {
          "base_uri": "https://localhost:8080/"
        },
        "id": "2q_lBPSUhZYT",
        "outputId": "c49b32ae-9f37-46ab-80af-9b27d62289c9"
      },
      "source": [
        "lst.index(3)"
      ],
      "execution_count": null,
      "outputs": [
        {
          "output_type": "execute_result",
          "data": {
            "text/plain": [
              "3"
            ]
          },
          "metadata": {
            "tags": []
          },
          "execution_count": 5
        }
      ]
    },
    {
      "cell_type": "markdown",
      "metadata": {
        "id": "isn3iNVCmV1P"
      },
      "source": [
        "* **Third function : Insert**"
      ]
    },
    {
      "cell_type": "code",
      "metadata": {
        "colab": {
          "base_uri": "https://localhost:8080/"
        },
        "id": "I_vINyJFhoQU",
        "outputId": "6a64e074-f31f-4ea3-f4ea-02649adb6f73"
      },
      "source": [
        "lst.insert(0,\"7\")\r\n",
        "lst"
      ],
      "execution_count": null,
      "outputs": [
        {
          "output_type": "execute_result",
          "data": {
            "text/plain": [
              "['7', '7', 6, 8, 'hello', 3, 9, ['b', 'd'], 7]"
            ]
          },
          "metadata": {
            "tags": []
          },
          "execution_count": 8
        }
      ]
    },
    {
      "cell_type": "markdown",
      "metadata": {
        "id": "SJkuOIx3m7v9"
      },
      "source": [
        "* **Fourth function : Count**"
      ]
    },
    {
      "cell_type": "code",
      "metadata": {
        "colab": {
          "base_uri": "https://localhost:8080/"
        },
        "id": "ungOhZcfirHj",
        "outputId": "b774d272-4d25-4006-a5b5-03537c7c5c98"
      },
      "source": [
        "lst.count('7')"
      ],
      "execution_count": null,
      "outputs": [
        {
          "output_type": "execute_result",
          "data": {
            "text/plain": [
              "2"
            ]
          },
          "metadata": {
            "tags": []
          },
          "execution_count": 9
        }
      ]
    },
    {
      "cell_type": "markdown",
      "metadata": {
        "id": "uPhV72uInCOM"
      },
      "source": [
        "* **Fifth function : Remove**"
      ]
    },
    {
      "cell_type": "code",
      "metadata": {
        "colab": {
          "base_uri": "https://localhost:8080/"
        },
        "id": "lcLRCieVi7lk",
        "outputId": "10d156c4-2498-4776-b5ce-494bca282980"
      },
      "source": [
        "lst.remove('7')\r\n",
        "lst"
      ],
      "execution_count": null,
      "outputs": [
        {
          "output_type": "execute_result",
          "data": {
            "text/plain": [
              "[6, 8, 'hello', 3, 9, ['b', 'd'], 7]"
            ]
          },
          "metadata": {
            "tags": []
          },
          "execution_count": 11
        }
      ]
    },
    {
      "cell_type": "markdown",
      "metadata": {
        "id": "PaGTn0ogoakR"
      },
      "source": [
        "### **Q2. Experiment with 5 Dict's in-built functions and post it to Github.**"
      ]
    },
    {
      "cell_type": "code",
      "metadata": {
        "colab": {
          "base_uri": "https://localhost:8080/"
        },
        "id": "aDvsp3bQo97x",
        "outputId": "1cdf5bce-792f-4e8f-eb6a-be646630d868"
      },
      "source": [
        "flower = {\"Name\":\"Lotus\", \"Colour\":\"Pink\", \"Size\":\"Large\"}\r\n",
        "flower"
      ],
      "execution_count": null,
      "outputs": [
        {
          "output_type": "execute_result",
          "data": {
            "text/plain": [
              "{'Colour': 'Pink', 'Name': 'Lotus', 'Size': 'Large'}"
            ]
          },
          "metadata": {
            "tags": []
          },
          "execution_count": 12
        }
      ]
    },
    {
      "cell_type": "markdown",
      "metadata": {
        "id": "xPkumYKI383M"
      },
      "source": [
        "* **First function : Items**"
      ]
    },
    {
      "cell_type": "code",
      "metadata": {
        "colab": {
          "base_uri": "https://localhost:8080/"
        },
        "id": "w63G7Ise4Xy_",
        "outputId": "0d4468f1-fe47-4575-efc2-d7a0cda3a145"
      },
      "source": [
        "flower.items()"
      ],
      "execution_count": null,
      "outputs": [
        {
          "output_type": "execute_result",
          "data": {
            "text/plain": [
              "dict_items([('Name', 'Lotus'), ('Colour', 'Pink'), ('Size', 'Large')])"
            ]
          },
          "metadata": {
            "tags": []
          },
          "execution_count": 13
        }
      ]
    },
    {
      "cell_type": "markdown",
      "metadata": {
        "id": "C02LNNEC4gc4"
      },
      "source": [
        "* **Second function : Setdefault**"
      ]
    },
    {
      "cell_type": "code",
      "metadata": {
        "colab": {
          "base_uri": "https://localhost:8080/",
          "height": 35
        },
        "id": "cfEvr9Vs4eWr",
        "outputId": "e99e2434-bd56-4d5e-9613-8de6de73ec1c"
      },
      "source": [
        "flower.setdefault(\"Colour\")"
      ],
      "execution_count": null,
      "outputs": [
        {
          "output_type": "execute_result",
          "data": {
            "application/vnd.google.colaboratory.intrinsic+json": {
              "type": "string"
            },
            "text/plain": [
              "'Pink'"
            ]
          },
          "metadata": {
            "tags": []
          },
          "execution_count": 14
        }
      ]
    },
    {
      "cell_type": "markdown",
      "metadata": {
        "id": "k9gkPViv4zqL"
      },
      "source": [
        "* **Third function : Copy**"
      ]
    },
    {
      "cell_type": "code",
      "metadata": {
        "colab": {
          "base_uri": "https://localhost:8080/"
        },
        "id": "NumyPidx5cLy",
        "outputId": "12d395cd-92b3-47e2-bb57-1020d48d1299"
      },
      "source": [
        "flower.copy()"
      ],
      "execution_count": null,
      "outputs": [
        {
          "output_type": "execute_result",
          "data": {
            "text/plain": [
              "{'Colour': 'Pink', 'Name': 'Lotus', 'Size': 'Large'}"
            ]
          },
          "metadata": {
            "tags": []
          },
          "execution_count": 15
        }
      ]
    },
    {
      "cell_type": "markdown",
      "metadata": {
        "id": "1tfRyo9Z5g3-"
      },
      "source": [
        "* **Fourth function : Pop**"
      ]
    },
    {
      "cell_type": "code",
      "metadata": {
        "colab": {
          "base_uri": "https://localhost:8080/",
          "height": 35
        },
        "id": "69uCunh15mst",
        "outputId": "8856c8c6-4d96-4c87-a01c-fc594178232f"
      },
      "source": [
        "flower.pop(\"Size\")"
      ],
      "execution_count": null,
      "outputs": [
        {
          "output_type": "execute_result",
          "data": {
            "application/vnd.google.colaboratory.intrinsic+json": {
              "type": "string"
            },
            "text/plain": [
              "'Large'"
            ]
          },
          "metadata": {
            "tags": []
          },
          "execution_count": 16
        }
      ]
    },
    {
      "cell_type": "code",
      "metadata": {
        "colab": {
          "base_uri": "https://localhost:8080/"
        },
        "id": "dzu05Aeo6HHw",
        "outputId": "ebc6de3e-1a15-498c-effd-79a263735f36"
      },
      "source": [
        "flower"
      ],
      "execution_count": null,
      "outputs": [
        {
          "output_type": "execute_result",
          "data": {
            "text/plain": [
              "{'Colour': 'Pink', 'Name': 'Lotus'}"
            ]
          },
          "metadata": {
            "tags": []
          },
          "execution_count": 17
        }
      ]
    },
    {
      "cell_type": "markdown",
      "metadata": {
        "id": "jmRVWeiv6KDs"
      },
      "source": [
        "* **Fifth function : Popitem**"
      ]
    },
    {
      "cell_type": "code",
      "metadata": {
        "id": "RiJ4uCpp6RGa",
        "colab": {
          "base_uri": "https://localhost:8080/"
        },
        "outputId": "6bf97ea2-8921-4608-a582-e98a0294abbc"
      },
      "source": [
        "flower.popitem()"
      ],
      "execution_count": null,
      "outputs": [
        {
          "output_type": "execute_result",
          "data": {
            "text/plain": [
              "('Colour', 'Pink')"
            ]
          },
          "metadata": {
            "tags": []
          },
          "execution_count": 18
        }
      ]
    },
    {
      "cell_type": "code",
      "metadata": {
        "id": "t-s97Igb6UV_",
        "colab": {
          "base_uri": "https://localhost:8080/"
        },
        "outputId": "a71e618b-924b-4911-8d81-87c73f9d95a2"
      },
      "source": [
        "flower"
      ],
      "execution_count": null,
      "outputs": [
        {
          "output_type": "execute_result",
          "data": {
            "text/plain": [
              "{'Name': 'Lotus'}"
            ]
          },
          "metadata": {
            "tags": []
          },
          "execution_count": 19
        }
      ]
    }
  ]
}