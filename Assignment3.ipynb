{
  "nbformat": 4,
  "nbformat_minor": 0,
  "metadata": {
    "colab": {
      "name": "Assignment3.ipynb",
      "provenance": [],
      "collapsed_sections": []
    },
    "kernelspec": {
      "name": "python3",
      "display_name": "Python 3"
    }
  },
  "cells": [
    {
      "cell_type": "markdown",
      "metadata": {
        "id": "RVVOmmZJX00N"
      },
      "source": [
        "# **Assignment 1 - Day 5**\r\n",
        "Q1. Write a function in Python to check whether a number is prime number or not."
      ]
    },
    {
      "cell_type": "code",
      "metadata": {
        "id": "kQky1iwMYWq5"
      },
      "source": [
        "def prmnum(num):\r\n",
        "  if num>1:\r\n",
        "    for i in range(2, num):\r\n",
        "      if (num % i) == 0:\r\n",
        "            print(\"Composite Number\")\r\n",
        "            break\r\n",
        "    else:\r\n",
        "        print(\"Prime Number\")"
      ],
      "execution_count": 1,
      "outputs": []
    },
    {
      "cell_type": "code",
      "metadata": {
        "colab": {
          "base_uri": "https://localhost:8080/"
        },
        "id": "tWmpBE2-euer",
        "outputId": "40d852f4-f83a-45f4-d659-2b452a3beb79"
      },
      "source": [
        "prmnum(13)"
      ],
      "execution_count": 2,
      "outputs": [
        {
          "output_type": "stream",
          "text": [
            "Prime Number\n"
          ],
          "name": "stdout"
        }
      ]
    },
    {
      "cell_type": "code",
      "metadata": {
        "colab": {
          "base_uri": "https://localhost:8080/"
        },
        "id": "-tVy-6p8e0g2",
        "outputId": "7906bea5-c14a-4aed-b1b3-23ab71a133f2"
      },
      "source": [
        "prmnum(21)"
      ],
      "execution_count": 3,
      "outputs": [
        {
          "output_type": "stream",
          "text": [
            "Composite Number\n"
          ],
          "name": "stdout"
        }
      ]
    }
  ]
}