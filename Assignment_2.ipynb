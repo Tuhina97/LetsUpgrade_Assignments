{
  "nbformat": 4,
  "nbformat_minor": 0,
  "metadata": {
    "colab": {
      "name": "Assignment 2.ipynb",
      "provenance": [],
      "collapsed_sections": []
    },
    "kernelspec": {
      "name": "python3",
      "display_name": "Python 3"
    }
  },
  "cells": [
    {
      "cell_type": "markdown",
      "metadata": {
        "id": "M7NI0rpI-9fv"
      },
      "source": [
        "# **Assignment (Day 3) ->**\r\n",
        "Q1. You all are pilots, you have to land a plane, the altitude required for landing the plane is 1000ft, if it is less than that tell the pilot to land the plane, or it is more than that but less than 5000ft ask the pilot to \"come down to 1000ft\", else if it is more than 5000ft ask the pilot to \"go around and try later\"."
      ]
    },
    {
      "cell_type": "code",
      "metadata": {
        "id": "WQCwYFyhAiWX"
      },
      "source": [
        "if altitude<1000:\r\n",
        "  print(\"Land the plane\")\r\n",
        "elif altitude>1000 and altitude<5000:\r\n",
        "  print(\"Come down to 1000ft\")\r\n",
        "else:\r\n",
        "  print(\"Go around and try later\")"
      ],
      "execution_count": null,
      "outputs": []
    }
  ]
}